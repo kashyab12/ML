{
 "cells": [
  {
   "cell_type": "markdown",
   "id": "383b6c18",
   "metadata": {},
   "source": [
    "# Titanic Challenge\n",
    "Given some data for the the passengers within the Titanic, have to predict whether they will **survive**!"
   ]
  },
  {
   "cell_type": "code",
   "execution_count": 7,
   "id": "6f6fa3c1",
   "metadata": {},
   "outputs": [],
   "source": [
    "import pandas as pd\n",
    "import numpy as np\n",
    "import matplotlib.pyplot as plt\n",
    "import seaborn as sns"
   ]
  },
  {
   "cell_type": "code",
   "execution_count": 8,
   "id": "cab2cd71",
   "metadata": {},
   "outputs": [
    {
     "name": "stdout",
     "output_type": "stream",
     "text": [
      "     PassengerId  Survived  Pclass  \\\n",
      "0              1         0       3   \n",
      "1              2         1       1   \n",
      "2              3         1       3   \n",
      "3              4         1       1   \n",
      "4              5         0       3   \n",
      "..           ...       ...     ...   \n",
      "886          887         0       2   \n",
      "887          888         1       1   \n",
      "888          889         0       3   \n",
      "889          890         1       1   \n",
      "890          891         0       3   \n",
      "\n",
      "                                                  Name     Sex   Age  SibSp  \\\n",
      "0                              Braund, Mr. Owen Harris    male  22.0      1   \n",
      "1    Cumings, Mrs. John Bradley (Florence Briggs Th...  female  38.0      1   \n",
      "2                               Heikkinen, Miss. Laina  female  26.0      0   \n",
      "3         Futrelle, Mrs. Jacques Heath (Lily May Peel)  female  35.0      1   \n",
      "4                             Allen, Mr. William Henry    male  35.0      0   \n",
      "..                                                 ...     ...   ...    ...   \n",
      "886                              Montvila, Rev. Juozas    male  27.0      0   \n",
      "887                       Graham, Miss. Margaret Edith  female  19.0      0   \n",
      "888           Johnston, Miss. Catherine Helen \"Carrie\"  female   NaN      1   \n",
      "889                              Behr, Mr. Karl Howell    male  26.0      0   \n",
      "890                                Dooley, Mr. Patrick    male  32.0      0   \n",
      "\n",
      "     Parch            Ticket     Fare Cabin Embarked  \n",
      "0        0         A/5 21171   7.2500   NaN        S  \n",
      "1        0          PC 17599  71.2833   C85        C  \n",
      "2        0  STON/O2. 3101282   7.9250   NaN        S  \n",
      "3        0            113803  53.1000  C123        S  \n",
      "4        0            373450   8.0500   NaN        S  \n",
      "..     ...               ...      ...   ...      ...  \n",
      "886      0            211536  13.0000   NaN        S  \n",
      "887      0            112053  30.0000   B42        S  \n",
      "888      2        W./C. 6607  23.4500   NaN        S  \n",
      "889      0            111369  30.0000  C148        C  \n",
      "890      0            370376   7.7500   NaN        Q  \n",
      "\n",
      "[891 rows x 12 columns]\n"
     ]
    }
   ],
   "source": [
    "train_df = pd.read_csv('train.csv')\n",
    "print(train_df)"
   ]
  },
  {
   "cell_type": "markdown",
   "id": "c78ffe77",
   "metadata": {},
   "source": [
    "## Initial thoughts\n",
    "- Passenger ID seems pretty useless as a determining factor (unless connected to seating arrangements somehow?\n",
    "- **Survived** most definitely is the output variable as per the sample output file given as well.\n",
    "- Pclass similar to Passenger ID may tell us whether the passengers were seated during the ride.\n",
    "- sibsp unsure so far how this will play a role (maybe since they will be close to where their other siblings are seated).\n",
    "- parch unsure so far how this will play a role (same idea as sibsp).\n",
    "- ticket same idea as Pclass and Passenger ID (I dont think I need all of them as predictors, one should do).\n",
    "- fare same ideas the passenger id, pclass, and ticket.\n",
    "- **cabin number** seems like more of a tell than the fare, passenger id, pclass, ticker, and fare.\n",
    "- **Embarked** seems like another predictor\n",
    "\n",
    "## Conclusion\n",
    "- Input -> Cabin Number, Age and Embarked ?\n",
    "- Model -> binary classification model\n",
    "- Output -> Survived\n"
   ]
  },
  {
   "cell_type": "markdown",
   "id": "6504b632",
   "metadata": {},
   "source": [
    "#  Analysing the Data\n",
    "So we can definitely tell what our inputs are going to be."
   ]
  },
  {
   "cell_type": "markdown",
   "id": "76569694",
   "metadata": {},
   "source": [
    "### 1. Passenger Class vs. Count (with hue's representing survived).\n",
    "**Conclusion:** logical inference; 1st class had a greater suvival rate. Follows a linear relationship i.e. the higher the Pclass the lower the survival rate."
   ]
  },
  {
   "cell_type": "code",
   "execution_count": 21,
   "id": "d3d0fad7",
   "metadata": {},
   "outputs": [
    {
     "data": {
      "text/plain": [
       "<AxesSubplot:xlabel='Pclass', ylabel='Count'>"
      ]
     },
     "execution_count": 21,
     "metadata": {},
     "output_type": "execute_result"
    },
    {
     "data": {
      "image/png": "[encoded data removed]",
      "text/plain": [
       "<Figure size 432x288 with 1 Axes>"
      ]
     },
     "metadata": {
      "needs_background": "light"
     },
     "output_type": "display_data"
    }
   ],
   "source": [
    "sns.histplot(data=train_df, x=\"Pclass\", hue=\"Survived\", multiple=\"fill\", discrete=True)"
   ]
  },
  {
   "cell_type": "code",
   "execution_count": null,
   "id": "6e62b47c",
   "metadata": {},
   "outputs": [],
   "source": []
  },
  {
   "cell_type": "code",
   "execution_count": null,
   "id": "a4789970",
   "metadata": {},
   "outputs": [],
   "source": []
  }
 ],
 "metadata": {
  "kernelspec": {
   "display_name": "Python 3",
   "language": "python",
   "name": "python3"
  },
  "language_info": {
   "codemirror_mode": {
    "name": "ipython",
    "version": 3
   },
   "file_extension": ".py",
   "mimetype": "text/x-python",
   "name": "python",
   "nbconvert_exporter": "python",
   "pygments_lexer": "ipython3",
   "version": "3.8.10"
  }
 },
 "nbformat": 4,
 "nbformat_minor": 5
}
